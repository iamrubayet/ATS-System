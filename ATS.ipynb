{
  "nbformat": 4,
  "nbformat_minor": 0,
  "metadata": {
    "colab": {
      "name": "ATS.ipynb",
      "provenance": []
    },
    "kernelspec": {
      "name": "python3",
      "display_name": "Python 3"
    }
  },
  "cells": [
    {
      "cell_type": "code",
      "metadata": {
        "id": "ZnCJy0jtp3cF",
        "colab_type": "code",
        "colab": {}
      },
      "source": [
        "#Description\n",
        "#A mini ats(applicant tracking system) will give you a score based on the similiarity of the  job description and your resume. "
      ],
      "execution_count": 0,
      "outputs": []
    },
    {
      "cell_type": "code",
      "metadata": {
        "id": "9CCIxxSLrK-q",
        "colab_type": "code",
        "colab": {}
      },
      "source": [
        "#install docx2txt using pip\n"
      ],
      "execution_count": 0,
      "outputs": []
    },
    {
      "cell_type": "code",
      "metadata": {
        "id": "sedWQQrarNXp",
        "colab_type": "code",
        "colab": {}
      },
      "source": [
        "pip install docx2txt"
      ],
      "execution_count": 0,
      "outputs": []
    },
    {
      "cell_type": "code",
      "metadata": {
        "id": "lf_WxWiCrNau",
        "colab_type": "code",
        "colab": {}
      },
      "source": [
        "#import library\n",
        "import docx2txt"
      ],
      "execution_count": 0,
      "outputs": []
    },
    {
      "cell_type": "code",
      "metadata": {
        "id": "SWagfp_ArNeb",
        "colab_type": "code",
        "colab": {}
      },
      "source": [
        "#load data \n",
        "from google.colab import files\n",
        "uploaded = files.upload()"
      ],
      "execution_count": 0,
      "outputs": []
    },
    {
      "cell_type": "code",
      "metadata": {
        "id": "cyNc6R5hrNpp",
        "colab_type": "code",
        "colab": {}
      },
      "source": [
        "#store the resume in a variable\n",
        "resume = docx2txt.process(\"your_resume.csv\")"
      ],
      "execution_count": 0,
      "outputs": []
    },
    {
      "cell_type": "code",
      "metadata": {
        "id": "MU59TcHfrNtF",
        "colab_type": "code",
        "colab": {}
      },
      "source": [
        "#print the resume \n",
        "print(resume)"
      ],
      "execution_count": 0,
      "outputs": []
    },
    {
      "cell_type": "code",
      "metadata": {
        "id": "dDC7th9yrNwr",
        "colab_type": "code",
        "colab": {}
      },
      "source": [
        "#store the job description file in a variable\n",
        "job_description = docx2txt.process(\"job_description.csv\")"
      ],
      "execution_count": 0,
      "outputs": []
    },
    {
      "cell_type": "code",
      "metadata": {
        "id": "UiSBvmFovfu_",
        "colab_type": "code",
        "colab": {}
      },
      "source": [
        "#print the job description\n",
        "print (job_description)"
      ],
      "execution_count": 0,
      "outputs": []
    },
    {
      "cell_type": "code",
      "metadata": {
        "id": "qPORm5tmvfz-",
        "colab_type": "code",
        "colab": {}
      },
      "source": [
        "#list of a text\n",
        "text = [resume,job_description]"
      ],
      "execution_count": 0,
      "outputs": []
    },
    {
      "cell_type": "code",
      "metadata": {
        "id": "OFaJSsiQvf49",
        "colab_type": "code",
        "colab": {}
      },
      "source": [
        "#import sklear\n",
        "from sklearn.feature_extraction.text import CountVectorizer\n",
        "cv = CountVectorizer()\n",
        "count_matrix = cv.fit_transform(text)"
      ],
      "execution_count": 0,
      "outputs": []
    },
    {
      "cell_type": "code",
      "metadata": {
        "id": "tYaooCizyQhC",
        "colab_type": "code",
        "colab": {}
      },
      "source": [
        "from sklearn.metrics.pairwise import cosine_similarity\n",
        "#print similiarity score\n",
        "print(\"\\nSimiliarity Score:\")\n",
        "print(cosine_similarity(count_matrix))\n"
      ],
      "execution_count": 0,
      "outputs": []
    },
    {
      "cell_type": "code",
      "metadata": {
        "id": "xkvKQMYn3Gnz",
        "colab_type": "code",
        "colab": {}
      },
      "source": [
        "#get the percentage\n",
        "\n",
        "matchPercentage = cosine_similiarity(count_matrix)[0][1]*100\n",
        "matchPercentage = round(matchPercentage,2)#rounding to two decimal\n",
        "print (\"your resume mathces about:\"+str(matchPercentage)+\"% of your job description\")\n",
        "\n"
      ],
      "execution_count": 0,
      "outputs": []
    },
    {
      "cell_type": "code",
      "metadata": {
        "id": "2XsRrEm33GrM",
        "colab_type": "code",
        "colab": {}
      },
      "source": [
        ""
      ],
      "execution_count": 0,
      "outputs": []
    },
    {
      "cell_type": "code",
      "metadata": {
        "id": "dgnSwBtQ3GkU",
        "colab_type": "code",
        "colab": {}
      },
      "source": [
        ""
      ],
      "execution_count": 0,
      "outputs": []
    },
    {
      "cell_type": "code",
      "metadata": {
        "id": "3pddcoDCyQpm",
        "colab_type": "code",
        "colab": {}
      },
      "source": [
        ""
      ],
      "execution_count": 0,
      "outputs": []
    },
    {
      "cell_type": "code",
      "metadata": {
        "id": "HnACIUdDvf9J",
        "colab_type": "code",
        "colab": {}
      },
      "source": [
        ""
      ],
      "execution_count": 0,
      "outputs": []
    }
  ]
}